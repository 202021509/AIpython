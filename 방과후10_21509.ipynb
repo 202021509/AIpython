{
  "nbformat": 4,
  "nbformat_minor": 0,
  "metadata": {
    "colab": {
      "name": "방과후10_21509.ipynb",
      "provenance": [],
      "authorship_tag": "ABX9TyPyFrO275LKsIFyYzSDgISE",
      "include_colab_link": true
    },
    "kernelspec": {
      "name": "python3",
      "display_name": "Python 3"
    }
  },
  "cells": [
    {
      "cell_type": "markdown",
      "metadata": {
        "id": "view-in-github",
        "colab_type": "text"
      },
      "source": [
        "<a href=\"https://colab.research.google.com/github/202021509/AIpython/blob/master/%EB%B0%A9%EA%B3%BC%ED%9B%8410_21509.ipynb\" target=\"_parent\"><img src=\"https://colab.research.google.com/assets/colab-badge.svg\" alt=\"Open In Colab\"/></a>"
      ]
    },
    {
      "cell_type": "markdown",
      "metadata": {
        "id": "sgqlx14cEHp1",
        "colab_type": "text"
      },
      "source": [
        "Keras Ai"
      ]
    },
    {
      "cell_type": "code",
      "metadata": {
        "id": "oL8ydPsVBX-k",
        "colab_type": "code",
        "colab": {
          "base_uri": "https://localhost:8080/",
          "height": 35
        },
        "outputId": "439e76de-2933-4b8b-aa05-ff7326d23a0e"
      },
      "source": [
        "print(\"Hello Github\")"
      ],
      "execution_count": 1,
      "outputs": [
        {
          "output_type": "stream",
          "text": [
            "Hello Github\n"
          ],
          "name": "stdout"
        }
      ]
    }
  ]
}